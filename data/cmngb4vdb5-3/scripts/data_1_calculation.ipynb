{
 "cells": [
  {
   "cell_type": "markdown",
   "metadata": {
    "Collapsed": "false"
   },
   "source": [
    "# Calculate CO$_2$ emissions related to European electricity generation - Part 1 - Calculation"
   ]
  },
  {
   "cell_type": "markdown",
   "metadata": {
    "Collapsed": "false"
   },
   "source": [
    "Calculate emission values related to public electricity generation for the EU27 countries plus Great Britain and Norway for the period from 1990 to 2018."
   ]
  },
  {
   "cell_type": "code",
   "execution_count": 1,
   "metadata": {
    "Collapsed": "false"
   },
   "outputs": [],
   "source": [
    "## Using Python 3.7\n",
    "import pandas as pd    # using version '1.1.1' including the pyxlsb package version '1.0.8'"
   ]
  },
  {
   "cell_type": "markdown",
   "metadata": {
    "Collapsed": "false"
   },
   "source": [
    "Required data files:\n",
    "\n",
    "- data/eea/UNFCCC_v23.csv\n",
    "    - Source: https://www.eea.europa.eu/data-and-maps/data/national-emissions-reported-to-the-unfccc-and-to-the-eu-greenhouse-gas-monitoring-mechanism-16\n",
    "    - Direct link to source file: https://www.eea.europa.eu/data-and-maps/data/national-emissions-reported-to-the-unfccc-and-to-the-eu-greenhouse-gas-monitoring-mechanism-16/national-greenhouse-gas-inventories-ipcc-common-reporting-format-sector-classification/ascii-delimited-zip-2/at_download/file\n",
    "    - Downloaded 2020-12-30 (modified by EEA last on 2020-12-21)\n",
    "- data/eurostat-energy_balances-june_2020_edition/\n",
    "    - Extracted zip file in this folder\n",
    "    - Source: https://ec.europa.eu/eurostat/web/energy/data/energy-balances\n",
    "    - Direct link to source file: https://ec.europa.eu/eurostat/documents/38154/4956218/Energy-Balances-April-2020-edition.zip/69da6e9f-bf8f-cd8e-f4ad-50b52f8ce616\n",
    "    - Downloaded: 2021-02-01 (modified by Eurostat last in 2020-06-05)"
   ]
  },
  {
   "cell_type": "code",
   "execution_count": 2,
   "metadata": {
    "Collapsed": "false"
   },
   "outputs": [],
   "source": [
    "## Settings\n",
    "## Input data files\n",
    "path_eea = 'data/eea/UNFCCC_v23.csv'\n",
    "path_eurostat = 'data/eurostat-energy_balances-june_2020_edition'  # path to folder\n",
    "## Output data files\n",
    "path_output_elec_emis = 'data/results/elec_emissions.csv'\n",
    "path_output_elec_emis_autoprod = 'data/results/elec_emission_incl_autoprod.csv'"
   ]
  },
  {
   "cell_type": "code",
   "execution_count": 3,
   "metadata": {
    "Collapsed": "false"
   },
   "outputs": [],
   "source": [
    "## Read UNFCCC emission statistic provided by the EEA\n",
    "countries_eea = ['FR', 'DE', 'UK', 'IT', 'ES', 'PL', 'SE', 'NL', 'BE', 'FI', 'CZ', 'DK', 'PT', 'RO', 'AT', \n",
    "                 'BG', 'EE', 'GR', 'LV', 'HU', 'IE', 'SK', 'LT', 'HR', 'LU', 'SI', 'CY', 'MT', 'NO'] # + ['IS', 'TR']\n",
    "sector = '1.A.1.a - Public Electricity and Heat Production'\n",
    "pol = 'CO2'  # 'All greenhouse gases - (CO2 equivalent)' or 'CO2'\n",
    "\n",
    "df_eea = pd.read_csv(path_eea, encoding='latin-1', low_memory=False)\n",
    "df_eea.loc[df_eea['Year'] == '1985-1987', 'Year'] = 1986\n",
    "df_eea['Year'] = df_eea['Year'].astype(int)\n",
    "df_eea = df_eea.set_index(['Country_code', 'Pollutant_name', 'Year', 'Sector_name']).sort_index()\n",
    "\n",
    "eea_emissions = df_eea.loc[pd.IndexSlice[countries_eea,pol,:,sector]].reset_index().rename(columns={'Country_code':'country', 'Year':'year'}).set_index(['country','year']).emissions\n",
    "eea_emissions.rename(index={'UK':'GB'}, inplace=True)\n",
    "eea_emissions = eea_emissions[eea_emissions.index.get_level_values('year')>=1990]  # Not interested in years before 1990\n",
    "eea_emissions = eea_emissions.sort_index()/1e3  # Convert Gg to Tg CO2 (teragrams)"
   ]
  },
  {
   "cell_type": "code",
   "execution_count": 4,
   "metadata": {
    "Collapsed": "false"
   },
   "outputs": [
    {
     "data": {
      "text/plain": [
       "country  year\n",
       "AT       1990    11.079379\n",
       "         1991    11.792010\n",
       "         1992     8.601634\n",
       "         1993     8.436119\n",
       "         1994     8.712956\n",
       "Name: emissions, dtype: float64"
      ]
     },
     "execution_count": 4,
     "metadata": {},
     "output_type": "execute_result"
    }
   ],
   "source": [
    "eea_emissions.head()"
   ]
  },
  {
   "cell_type": "code",
   "execution_count": 5,
   "metadata": {
    "Collapsed": "false"
   },
   "outputs": [
    {
     "name": "stdout",
     "output_type": "stream",
     "text": [
      "Started reading country file of AT, file 1 of 29.\n",
      "Started reading country file of BE, file 2 of 29.\n",
      "Started reading country file of BG, file 3 of 29.\n",
      "Started reading country file of CY, file 4 of 29.\n",
      "Started reading country file of CZ, file 5 of 29.\n",
      "Started reading country file of DE, file 6 of 29.\n",
      "Started reading country file of DK, file 7 of 29.\n",
      "Started reading country file of EE, file 8 of 29.\n",
      "Started reading country file of EL, file 9 of 29.\n",
      "Started reading country file of ES, file 10 of 29.\n",
      "Started reading country file of FI, file 11 of 29.\n",
      "Started reading country file of FR, file 12 of 29.\n",
      "Started reading country file of HR, file 13 of 29.\n",
      "Started reading country file of HU, file 14 of 29.\n",
      "Started reading country file of IE, file 15 of 29.\n",
      "Started reading country file of IT, file 16 of 29.\n",
      "Started reading country file of LT, file 17 of 29.\n",
      "Started reading country file of LU, file 18 of 29.\n",
      "Started reading country file of LV, file 19 of 29.\n",
      "Started reading country file of MT, file 20 of 29.\n",
      "Started reading country file of NL, file 21 of 29.\n",
      "Started reading country file of NO, file 22 of 29.\n",
      "Started reading country file of PL, file 23 of 29.\n",
      "Started reading country file of PT, file 24 of 29.\n",
      "Started reading country file of RO, file 25 of 29.\n",
      "Started reading country file of SE, file 26 of 29.\n",
      "Started reading country file of SI, file 27 of 29.\n",
      "Started reading country file of SK, file 28 of 29.\n",
      "Started reading country file of UK, file 29 of 29.\n"
     ]
    }
   ],
   "source": [
    "## Read Eurostat energy balances (takes a few minutes to complete)\n",
    "countries = ['AT', 'BE', 'BG', 'CY', 'CZ', 'DE', 'DK', 'EE', 'EL', 'ES', 'FI', 'FR', 'HR', 'HU', 'IE', \n",
    "             'IT', 'LT', 'LU', 'LV', 'MT', 'NL', 'NO', 'PL', 'PT', 'RO', 'SE', 'SI', 'SK', 'UK']\n",
    "\n",
    "index = pd.MultiIndex.from_product([countries, range(1990,2019)], names=('country', 'year'))\n",
    "columns = ['TI_EHG_MAPE_E', 'TI_EHG_MAPCHP_E', 'TI_EHG_MAPH_E', \n",
    "           'TI_EHG_APE_E', 'TI_EHG_APCHP_E', 'TI_EHG_APH_E', \n",
    "           'GHP_MAPCHP', 'GHP_MAPH', 'GHP_APCHP', 'GHP_APH']\n",
    "eurostat_nrg_bal = pd.DataFrame(index=index, columns=columns)\n",
    "\n",
    "for i, country in enumerate(countries):\n",
    "    print('Started reading country file of ' + country + ', file '+str(i+1)+' of '+str(len(countries))+'.')\n",
    "    for year in range(1990,2019):\n",
    "        filename = '{}/{}-Energy-balance-sheets-June-2020-edition.xlsb'.format(path_eurostat, country)\n",
    "        df_tmp = pd.read_excel(filename, str(year), engine='pyxlsb', header=4)\n",
    "        df_tmp = df_tmp.rename(columns={'Unnamed: 7':'category'})[['category','Total']].set_index('category')\n",
    "        eurostat_nrg_bal.loc[country,year] = df_tmp.loc[columns].squeeze()\n",
    "\n",
    "eurostat_nrg_bal.rename(index={'UK':'GB', 'EL':'GR'}, inplace=True)  # Rename EL -> GR, UK -> GB."
   ]
  },
  {
   "cell_type": "code",
   "execution_count": 6,
   "metadata": {
    "Collapsed": "false"
   },
   "outputs": [
    {
     "data": {
      "text/html": [
       "<div>\n",
       "<style scoped>\n",
       "    .dataframe tbody tr th:only-of-type {\n",
       "        vertical-align: middle;\n",
       "    }\n",
       "\n",
       "    .dataframe tbody tr th {\n",
       "        vertical-align: top;\n",
       "    }\n",
       "\n",
       "    .dataframe thead th {\n",
       "        text-align: right;\n",
       "    }\n",
       "</style>\n",
       "<table border=\"1\" class=\"dataframe\">\n",
       "  <thead>\n",
       "    <tr style=\"text-align: right;\">\n",
       "      <th></th>\n",
       "      <th></th>\n",
       "      <th>TI_EHG_MAPE_E</th>\n",
       "      <th>TI_EHG_MAPCHP_E</th>\n",
       "      <th>TI_EHG_MAPH_E</th>\n",
       "      <th>TI_EHG_APE_E</th>\n",
       "      <th>TI_EHG_APCHP_E</th>\n",
       "      <th>TI_EHG_APH_E</th>\n",
       "      <th>GHP_MAPCHP</th>\n",
       "      <th>GHP_MAPH</th>\n",
       "      <th>GHP_APCHP</th>\n",
       "      <th>GHP_APH</th>\n",
       "    </tr>\n",
       "    <tr>\n",
       "      <th>country</th>\n",
       "      <th>year</th>\n",
       "      <th></th>\n",
       "      <th></th>\n",
       "      <th></th>\n",
       "      <th></th>\n",
       "      <th></th>\n",
       "      <th></th>\n",
       "      <th></th>\n",
       "      <th></th>\n",
       "      <th></th>\n",
       "      <th></th>\n",
       "    </tr>\n",
       "  </thead>\n",
       "  <tbody>\n",
       "    <tr>\n",
       "      <th rowspan=\"5\" valign=\"top\">AT</th>\n",
       "      <th>1990</th>\n",
       "      <td>4157.48</td>\n",
       "      <td>1360.54</td>\n",
       "      <td>340.262</td>\n",
       "      <td>497.741</td>\n",
       "      <td>839.978</td>\n",
       "      <td>0.979</td>\n",
       "      <td>316.423</td>\n",
       "      <td>267.006</td>\n",
       "      <td>95.085</td>\n",
       "      <td>0.931</td>\n",
       "    </tr>\n",
       "    <tr>\n",
       "      <th>1991</th>\n",
       "      <td>4160.68</td>\n",
       "      <td>1508.66</td>\n",
       "      <td>387.578</td>\n",
       "      <td>572.263</td>\n",
       "      <td>933.56</td>\n",
       "      <td>0.982</td>\n",
       "      <td>391.97</td>\n",
       "      <td>301.591</td>\n",
       "      <td>112.473</td>\n",
       "      <td>1.027</td>\n",
       "    </tr>\n",
       "    <tr>\n",
       "      <th>1992</th>\n",
       "      <td>3798.16</td>\n",
       "      <td>1334.34</td>\n",
       "      <td>382.906</td>\n",
       "      <td>691.296</td>\n",
       "      <td>890.131</td>\n",
       "      <td>1.963</td>\n",
       "      <td>357.648</td>\n",
       "      <td>301.591</td>\n",
       "      <td>117.106</td>\n",
       "      <td>1.17</td>\n",
       "    </tr>\n",
       "    <tr>\n",
       "      <th>1993</th>\n",
       "      <td>3854.84</td>\n",
       "      <td>1454.72</td>\n",
       "      <td>425.626</td>\n",
       "      <td>722.143</td>\n",
       "      <td>935.681</td>\n",
       "      <td>0.986</td>\n",
       "      <td>371.167</td>\n",
       "      <td>355.594</td>\n",
       "      <td>140.179</td>\n",
       "      <td>1.003</td>\n",
       "    </tr>\n",
       "    <tr>\n",
       "      <th>1994</th>\n",
       "      <td>3932.05</td>\n",
       "      <td>1452.46</td>\n",
       "      <td>386.242</td>\n",
       "      <td>885.065</td>\n",
       "      <td>1082.65</td>\n",
       "      <td>0.986</td>\n",
       "      <td>421.324</td>\n",
       "      <td>312.625</td>\n",
       "      <td>105.45</td>\n",
       "      <td>0.86</td>\n",
       "    </tr>\n",
       "  </tbody>\n",
       "</table>\n",
       "</div>"
      ],
      "text/plain": [
       "             TI_EHG_MAPE_E TI_EHG_MAPCHP_E TI_EHG_MAPH_E TI_EHG_APE_E  \\\n",
       "country year                                                            \n",
       "AT      1990       4157.48         1360.54       340.262      497.741   \n",
       "        1991       4160.68         1508.66       387.578      572.263   \n",
       "        1992       3798.16         1334.34       382.906      691.296   \n",
       "        1993       3854.84         1454.72       425.626      722.143   \n",
       "        1994       3932.05         1452.46       386.242      885.065   \n",
       "\n",
       "             TI_EHG_APCHP_E TI_EHG_APH_E GHP_MAPCHP GHP_MAPH GHP_APCHP GHP_APH  \n",
       "country year                                                                    \n",
       "AT      1990        839.978        0.979    316.423  267.006    95.085   0.931  \n",
       "        1991         933.56        0.982     391.97  301.591   112.473   1.027  \n",
       "        1992        890.131        1.963    357.648  301.591   117.106    1.17  \n",
       "        1993        935.681        0.986    371.167  355.594   140.179   1.003  \n",
       "        1994        1082.65        0.986    421.324  312.625    105.45    0.86  "
      ]
     },
     "execution_count": 6,
     "metadata": {},
     "output_type": "execute_result"
    }
   ],
   "source": [
    "eurostat_nrg_bal.head()"
   ]
  },
  {
   "cell_type": "code",
   "execution_count": 7,
   "metadata": {
    "Collapsed": "false"
   },
   "outputs": [],
   "source": [
    "## Create convenient products\n",
    "eurostat_products = pd.DataFrame(index=eurostat_nrg_bal.index, columns=['MAP_EI', 'AP_EI', 'MAP_DHO', 'AP_DHO'])\n",
    "eurostat_products['MAP_EI'] = eurostat_nrg_bal['TI_EHG_MAPE_E'] + eurostat_nrg_bal['TI_EHG_MAPCHP_E'] + eurostat_nrg_bal['TI_EHG_MAPH_E']\n",
    "eurostat_products['AP_EI'] = eurostat_nrg_bal['TI_EHG_APE_E'] + eurostat_nrg_bal['TI_EHG_APCHP_E'] + eurostat_nrg_bal['TI_EHG_APH_E']\n",
    "eurostat_products['MAP_DHO'] = eurostat_nrg_bal['GHP_MAPCHP'] + eurostat_nrg_bal['GHP_MAPH']\n",
    "eurostat_products['AP_DHO'] = eurostat_nrg_bal['GHP_APCHP'] + eurostat_nrg_bal['GHP_APH']"
   ]
  },
  {
   "cell_type": "code",
   "execution_count": 8,
   "metadata": {
    "Collapsed": "false"
   },
   "outputs": [
    {
     "data": {
      "text/html": [
       "<div>\n",
       "<style scoped>\n",
       "    .dataframe tbody tr th:only-of-type {\n",
       "        vertical-align: middle;\n",
       "    }\n",
       "\n",
       "    .dataframe tbody tr th {\n",
       "        vertical-align: top;\n",
       "    }\n",
       "\n",
       "    .dataframe thead th {\n",
       "        text-align: right;\n",
       "    }\n",
       "</style>\n",
       "<table border=\"1\" class=\"dataframe\">\n",
       "  <thead>\n",
       "    <tr style=\"text-align: right;\">\n",
       "      <th></th>\n",
       "      <th></th>\n",
       "      <th>MAP_EI</th>\n",
       "      <th>AP_EI</th>\n",
       "      <th>MAP_DHO</th>\n",
       "      <th>AP_DHO</th>\n",
       "    </tr>\n",
       "    <tr>\n",
       "      <th>country</th>\n",
       "      <th>year</th>\n",
       "      <th></th>\n",
       "      <th></th>\n",
       "      <th></th>\n",
       "      <th></th>\n",
       "    </tr>\n",
       "  </thead>\n",
       "  <tbody>\n",
       "    <tr>\n",
       "      <th rowspan=\"5\" valign=\"top\">AT</th>\n",
       "      <th>1990</th>\n",
       "      <td>5858.29</td>\n",
       "      <td>1338.7</td>\n",
       "      <td>583.429</td>\n",
       "      <td>96.016</td>\n",
       "    </tr>\n",
       "    <tr>\n",
       "      <th>1991</th>\n",
       "      <td>6056.92</td>\n",
       "      <td>1506.8</td>\n",
       "      <td>693.561</td>\n",
       "      <td>113.5</td>\n",
       "    </tr>\n",
       "    <tr>\n",
       "      <th>1992</th>\n",
       "      <td>5515.41</td>\n",
       "      <td>1583.39</td>\n",
       "      <td>659.239</td>\n",
       "      <td>118.276</td>\n",
       "    </tr>\n",
       "    <tr>\n",
       "      <th>1993</th>\n",
       "      <td>5735.18</td>\n",
       "      <td>1658.81</td>\n",
       "      <td>726.761</td>\n",
       "      <td>141.182</td>\n",
       "    </tr>\n",
       "    <tr>\n",
       "      <th>1994</th>\n",
       "      <td>5770.75</td>\n",
       "      <td>1968.7</td>\n",
       "      <td>733.949</td>\n",
       "      <td>106.31</td>\n",
       "    </tr>\n",
       "  </tbody>\n",
       "</table>\n",
       "</div>"
      ],
      "text/plain": [
       "               MAP_EI    AP_EI  MAP_DHO   AP_DHO\n",
       "country year                                    \n",
       "AT      1990  5858.29   1338.7  583.429   96.016\n",
       "        1991  6056.92   1506.8  693.561    113.5\n",
       "        1992  5515.41  1583.39  659.239  118.276\n",
       "        1993  5735.18  1658.81  726.761  141.182\n",
       "        1994  5770.75   1968.7  733.949   106.31"
      ]
     },
     "execution_count": 8,
     "metadata": {},
     "output_type": "execute_result"
    }
   ],
   "source": [
    "eurostat_products.head()"
   ]
  },
  {
   "cell_type": "code",
   "execution_count": null,
   "metadata": {
    "Collapsed": "false"
   },
   "outputs": [],
   "source": []
  },
  {
   "cell_type": "code",
   "execution_count": 9,
   "metadata": {
    "Collapsed": "false"
   },
   "outputs": [],
   "source": [
    "## Compute emission values of electricity generation\n",
    "elec_emission = eea_emissions * ((eurostat_products['MAP_EI'] - (eurostat_nrg_bal['GHP_MAPCHP']/0.9)) / (eurostat_products['MAP_EI'] + eurostat_products['AP_EI']))  # The final units are Tg CO2.\n",
    "elec_emission[elec_emission<0] = 0\n",
    "elec_emission.name = 'electricity-only emissions'"
   ]
  },
  {
   "cell_type": "code",
   "execution_count": 10,
   "metadata": {
    "Collapsed": "false"
   },
   "outputs": [
    {
     "data": {
      "text/plain": [
       "country  year\n",
       "AT       1990    8.47728\n",
       "         1991    8.76388\n",
       "         1992    6.20152\n",
       "         1993    6.07298\n",
       "         1994     5.9696\n",
       "Name: electricity-only emissions, dtype: object"
      ]
     },
     "execution_count": 10,
     "metadata": {},
     "output_type": "execute_result"
    }
   ],
   "source": [
    "elec_emission.head()"
   ]
  },
  {
   "cell_type": "code",
   "execution_count": null,
   "metadata": {
    "Collapsed": "false"
   },
   "outputs": [],
   "source": []
  },
  {
   "cell_type": "code",
   "execution_count": 11,
   "metadata": {
    "Collapsed": "false"
   },
   "outputs": [],
   "source": [
    "## Compute emission values of electricity generation including estimated contribution from autoproducers\n",
    "elec_emission_incl_autoprod = eea_emissions * ((eurostat_products['MAP_EI'] - (eurostat_nrg_bal['GHP_MAPCHP']/0.9)) / (eurostat_products['MAP_EI'] + eurostat_products['AP_EI'])) \\\n",
    "                              * (1 + (eurostat_products['AP_EI'] - (eurostat_products['AP_DHO']/0.9)) / (eurostat_products['MAP_EI'] - (eurostat_products['MAP_DHO']/0.9)))  # The final units are Tg CO2.\n",
    "elec_emission_incl_autoprod[elec_emission_incl_autoprod<0] = 0\n",
    "elec_emission_incl_autoprod.name = 'electricity-only emissions incl autoprod'"
   ]
  },
  {
   "cell_type": "code",
   "execution_count": 12,
   "metadata": {
    "Collapsed": "false"
   },
   "outputs": [
    {
     "data": {
      "text/plain": [
       "country  year\n",
       "AT       1990    10.4819\n",
       "         1991    11.0529\n",
       "         1992    8.08414\n",
       "         1993    7.92401\n",
       "         1994      8.199\n",
       "Name: electricity-only emissions incl autoprod, dtype: object"
      ]
     },
     "execution_count": 12,
     "metadata": {},
     "output_type": "execute_result"
    }
   ],
   "source": [
    "elec_emission_incl_autoprod.head()"
   ]
  },
  {
   "cell_type": "code",
   "execution_count": null,
   "metadata": {
    "Collapsed": "false"
   },
   "outputs": [],
   "source": []
  },
  {
   "cell_type": "code",
   "execution_count": 13,
   "metadata": {
    "Collapsed": "false"
   },
   "outputs": [],
   "source": [
    "## Save results to files\n",
    "elec_emission.to_csv(path_output_elec_emis)\n",
    "elec_emission_incl_autoprod.to_csv(path_output_elec_emis_autoprod)"
   ]
  }
 ],
 "metadata": {
  "kernelspec": {
   "display_name": "Python 3.7 with PyPSA 0.17.1",
   "language": "python",
   "name": "pypsa-eur"
  },
  "language_info": {
   "codemirror_mode": {
    "name": "ipython",
    "version": 3
   },
   "file_extension": ".py",
   "mimetype": "text/x-python",
   "name": "python",
   "nbconvert_exporter": "python",
   "pygments_lexer": "ipython3",
   "version": "3.7.9"
  }
 },
 "nbformat": 4,
 "nbformat_minor": 4
}
